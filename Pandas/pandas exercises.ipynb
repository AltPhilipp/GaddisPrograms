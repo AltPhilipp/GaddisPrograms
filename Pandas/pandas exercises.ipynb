{
 "cells": [
  {
   "cell_type": "code",
   "id": "initial_id",
   "metadata": {
    "collapsed": true,
    "ExecuteTime": {
     "end_time": "2024-09-27T17:51:57.727515Z",
     "start_time": "2024-09-27T17:51:57.714191Z"
    }
   },
   "source": [
    "# Import the training dataset\n",
    "import pandas as pd\n",
    "data = pd.read_csv(\"titanic/train.csv\")"
   ],
   "outputs": [
    {
     "data": {
      "text/plain": [
       "                                     Name   Age  Survived\n",
       "630  Barkworth, Mr. Algernon Henry Wilson  80.0         1"
      ],
      "text/html": [
       "<div>\n",
       "<style scoped>\n",
       "    .dataframe tbody tr th:only-of-type {\n",
       "        vertical-align: middle;\n",
       "    }\n",
       "\n",
       "    .dataframe tbody tr th {\n",
       "        vertical-align: top;\n",
       "    }\n",
       "\n",
       "    .dataframe thead th {\n",
       "        text-align: right;\n",
       "    }\n",
       "</style>\n",
       "<table border=\"1\" class=\"dataframe\">\n",
       "  <thead>\n",
       "    <tr style=\"text-align: right;\">\n",
       "      <th></th>\n",
       "      <th>Name</th>\n",
       "      <th>Age</th>\n",
       "      <th>Survived</th>\n",
       "    </tr>\n",
       "  </thead>\n",
       "  <tbody>\n",
       "    <tr>\n",
       "      <th>630</th>\n",
       "      <td>Barkworth, Mr. Algernon Henry Wilson</td>\n",
       "      <td>80.0</td>\n",
       "      <td>1</td>\n",
       "    </tr>\n",
       "  </tbody>\n",
       "</table>\n",
       "</div>"
      ]
     },
     "execution_count": 23,
     "metadata": {},
     "output_type": "execute_result"
    }
   ],
   "execution_count": 23
  },
  {
   "metadata": {
    "ExecuteTime": {
     "end_time": "2024-09-27T18:12:03.929411Z",
     "start_time": "2024-09-27T18:12:03.919703Z"
    }
   },
   "cell_type": "code",
   "source": [
    "# Exercise 1: Find the name, age, sex, survival status of the oldest passenger which survived\n",
    "data.loc[(data['Age'] == data['Age'].max()) & (data['Survived'] == 1), ['Name', 'Age', 'Sex',  'Survived']]"
   ],
   "id": "13212fc7d14df689",
   "outputs": [
    {
     "data": {
      "text/plain": [
       "                                     Name   Age   Sex  Survived\n",
       "630  Barkworth, Mr. Algernon Henry Wilson  80.0  male         1"
      ],
      "text/html": [
       "<div>\n",
       "<style scoped>\n",
       "    .dataframe tbody tr th:only-of-type {\n",
       "        vertical-align: middle;\n",
       "    }\n",
       "\n",
       "    .dataframe tbody tr th {\n",
       "        vertical-align: top;\n",
       "    }\n",
       "\n",
       "    .dataframe thead th {\n",
       "        text-align: right;\n",
       "    }\n",
       "</style>\n",
       "<table border=\"1\" class=\"dataframe\">\n",
       "  <thead>\n",
       "    <tr style=\"text-align: right;\">\n",
       "      <th></th>\n",
       "      <th>Name</th>\n",
       "      <th>Age</th>\n",
       "      <th>Sex</th>\n",
       "      <th>Survived</th>\n",
       "    </tr>\n",
       "  </thead>\n",
       "  <tbody>\n",
       "    <tr>\n",
       "      <th>630</th>\n",
       "      <td>Barkworth, Mr. Algernon Henry Wilson</td>\n",
       "      <td>80.0</td>\n",
       "      <td>male</td>\n",
       "      <td>1</td>\n",
       "    </tr>\n",
       "  </tbody>\n",
       "</table>\n",
       "</div>"
      ]
     },
     "execution_count": 40,
     "metadata": {},
     "output_type": "execute_result"
    }
   ],
   "execution_count": 40
  },
  {
   "metadata": {
    "ExecuteTime": {
     "end_time": "2024-09-27T18:39:45.464474Z",
     "start_time": "2024-09-27T18:39:45.458417Z"
    }
   },
   "cell_type": "code",
   "source": [
    "# Exercise 2: Find the location where most passengers embarked (S = Southhampton, C = Cherbourg, Q = Queesntown\n",
    "southampton_count = data[data['Embarked'] == 'S'].shape[0]  # Gives the number of rows [0] / columns [1] of the dataset\n",
    "# southampton_count = data[data['Embarked'] == 'S'].index.size  # Gives the number of rows \n",
    "southampton_count"
   ],
   "id": "db4679d786b550f6",
   "outputs": [
    {
     "data": {
      "text/plain": [
       "644"
      ]
     },
     "execution_count": 61,
     "metadata": {},
     "output_type": "execute_result"
    }
   ],
   "execution_count": 61
  },
  {
   "metadata": {
    "ExecuteTime": {
     "end_time": "2024-09-27T18:39:46.755179Z",
     "start_time": "2024-09-27T18:39:46.753073Z"
    }
   },
   "cell_type": "code",
   "source": "",
   "id": "1c196b8425c5785f",
   "outputs": [],
   "execution_count": 61
  },
  {
   "metadata": {},
   "cell_type": "code",
   "outputs": [],
   "execution_count": null,
   "source": "",
   "id": "d0c79c12ef373586"
  }
 ],
 "metadata": {
  "kernelspec": {
   "display_name": "Python 3",
   "language": "python",
   "name": "python3"
  },
  "language_info": {
   "codemirror_mode": {
    "name": "ipython",
    "version": 2
   },
   "file_extension": ".py",
   "mimetype": "text/x-python",
   "name": "python",
   "nbconvert_exporter": "python",
   "pygments_lexer": "ipython2",
   "version": "2.7.6"
  }
 },
 "nbformat": 4,
 "nbformat_minor": 5
}
