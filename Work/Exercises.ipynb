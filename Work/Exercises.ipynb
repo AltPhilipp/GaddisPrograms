{
 "cells": [
  {
   "cell_type": "code",
   "id": "initial_id",
   "metadata": {
    "collapsed": true,
    "ExecuteTime": {
     "end_time": "2025-01-06T16:16:40.960426Z",
     "start_time": "2025-01-06T16:16:40.955264Z"
    }
   },
   "source": [
    "# Personal Info\n",
    "\n",
    "print(\"Philipp\")\n",
    "print(\"Basel\")\n",
    "# Etc.\n"
   ],
   "outputs": [
    {
     "name": "stdout",
     "output_type": "stream",
     "text": [
      "Philipp\n",
      "Basel\n"
     ]
    }
   ],
   "execution_count": 1
  },
  {
   "metadata": {
    "ExecuteTime": {
     "end_time": "2025-01-06T16:20:44.829093Z",
     "start_time": "2025-01-06T16:20:42.776717Z"
    }
   },
   "cell_type": "code",
   "source": [
    "# Sales Prediction\n",
    "\n",
    "sales = float(input(\"Enter projected amount of sales: \"))\n",
    "\n",
    "print(f\"The profit amount is {sales*0.23}\")"
   ],
   "id": "59fccc9faa20bd97",
   "outputs": [
    {
     "name": "stdout",
     "output_type": "stream",
     "text": [
      "The profit amount is 23.0\n"
     ]
    }
   ],
   "execution_count": 7
  },
  {
   "metadata": {
    "ExecuteTime": {
     "end_time": "2025-01-06T16:25:52.611417Z",
     "start_time": "2025-01-06T16:25:52.607855Z"
    }
   },
   "cell_type": "code",
   "source": [
    "# Distance\n",
    "\n",
    "hours = [6, 10, 15]\n",
    "\n",
    "for x in hours:\n",
    "    print(f\"Distance traveled for {hours}: {float(70*x)} miles\")\n"
   ],
   "id": "443a801f148c341d",
   "outputs": [
    {
     "name": "stdout",
     "output_type": "stream",
     "text": [
      "Distance traveled for [6, 10, 15]: 420.0 miles\n",
      "Distance traveled for [6, 10, 15]: 700.0 miles\n",
      "Distance traveled for [6, 10, 15]: 1050.0 miles\n"
     ]
    }
   ],
   "execution_count": 10
  },
  {
   "metadata": {
    "ExecuteTime": {
     "end_time": "2025-01-06T16:37:34.212565Z",
     "start_time": "2025-01-06T16:37:32.289540Z"
    }
   },
   "cell_type": "code",
   "source": [
    "# Tip Tax Total\n",
    "\n",
    "food_chrg = float(input(\"Press enter food charge: \"))\n",
    "\n",
    "tip = float(food_chrg * 0.18)\n",
    "tax = float((food_chrg + tip) * 0.07)\n",
    "\n",
    "total = food_chrg + tip + tax\n",
    "\n",
    "print(f\"The total amount is {total:.2f}\")\n"
   ],
   "id": "d622478aa60d8e5f",
   "outputs": [
    {
     "name": "stdout",
     "output_type": "stream",
     "text": [
      "The total amount is 126.26\n"
     ]
    }
   ],
   "execution_count": 24
  },
  {
   "metadata": {
    "ExecuteTime": {
     "end_time": "2025-01-06T16:46:10.780430Z",
     "start_time": "2025-01-06T16:46:06.849361Z"
    }
   },
   "cell_type": "code",
   "source": [
    "# Male Female Percentage\n",
    "\n",
    "males = float(input(\"Enter number of males: \"))\n",
    "females = float(input(\"Enter number of females: \"))\n",
    "\n",
    "total = males + females\n",
    "\n",
    "percentage_male = float(males / total * 100)\n",
    "percentage_female = float(100 - percentage_male)\n",
    "\n",
    "print(f\"The percentage amounts are: {percentage_male: .2f}% males and {percentage_female: .2f}% females.\")\n"
   ],
   "id": "96b19166ee1c180a",
   "outputs": [
    {
     "name": "stdout",
     "output_type": "stream",
     "text": [
      "The percentage amounts are:  88.26% males and  11.74% females.\n"
     ]
    }
   ],
   "execution_count": 35
  },
  {
   "metadata": {
    "ExecuteTime": {
     "end_time": "2025-01-06T16:48:36.428466Z",
     "start_time": "2025-01-06T16:48:34.995466Z"
    }
   },
   "cell_type": "code",
   "source": [
    "user_inp = int(input(\"Please enter a number:\"))\n",
    "\n",
    "print(f\"{user_inp:08b}\")"
   ],
   "id": "ea6a8fd1ae9b25eb",
   "outputs": [
    {
     "name": "stdout",
     "output_type": "stream",
     "text": [
      "00001010\n"
     ]
    }
   ],
   "execution_count": 38
  },
  {
   "metadata": {
    "ExecuteTime": {
     "end_time": "2025-01-06T16:48:32.511987Z",
     "start_time": "2025-01-06T16:48:32.508873Z"
    }
   },
   "cell_type": "code",
   "source": "# Day of the Week\n",
   "id": "9e19b71a110c5add",
   "outputs": [],
   "execution_count": 37
  },
  {
   "metadata": {
    "ExecuteTime": {
     "end_time": "2025-01-06T17:12:07.918717Z",
     "start_time": "2025-01-06T17:12:05.253835Z"
    }
   },
   "cell_type": "code",
   "source": [
    "# Feb. Days\n",
    "\n",
    "year = int(input(\"Enter a year: \"))\n",
    "\n",
    "if year % 100 == 0:\n",
    "    if year % 400 == 0:\n",
    "        print(f\"{year} is a leap year.\")\n",
    "elif year % 100 != 0:\n",
    "    if year % 4 == 0:\n",
    "        print(f\"{year} is a leap year.\")\n",
    "else:\n",
    "    print(f\"{year} is not a leap year.\")\n",
    "\n"
   ],
   "id": "e16f3627a17da367",
   "outputs": [],
   "execution_count": 49
  },
  {
   "metadata": {
    "ExecuteTime": {
     "end_time": "2025-01-06T17:23:53.546467Z",
     "start_time": "2025-01-06T17:23:53.542913Z"
    }
   },
   "cell_type": "code",
   "source": [
    "# Loops\n",
    "\n",
    "temps = [0, 1, 2, 3, 4, 5, 6, 7, 8, 9, 10, 11, 12, 13, 14, 15, 16, 17, 18, 19, 20]\n",
    "\n",
    "temps.insert(20, 0)\n",
    "\n",
    "# for each\n",
    "for i in temps:\n",
    "    print(f\"{float(i): .1f}°C is {float((9/5*i)+32): .1f}F\")"
   ],
   "id": "c1bd932bcdaa870b",
   "outputs": [
    {
     "name": "stdout",
     "output_type": "stream",
     "text": [
      " 0.0°C is  32.0F\n",
      " 1.0°C is  33.8F\n",
      " 2.0°C is  35.6F\n",
      " 3.0°C is  37.4F\n",
      " 4.0°C is  39.2F\n",
      " 5.0°C is  41.0F\n",
      " 6.0°C is  42.8F\n",
      " 7.0°C is  44.6F\n",
      " 8.0°C is  46.4F\n",
      " 9.0°C is  48.2F\n",
      " 10.0°C is  50.0F\n",
      " 11.0°C is  51.8F\n",
      " 12.0°C is  53.6F\n",
      " 13.0°C is  55.4F\n",
      " 14.0°C is  57.2F\n",
      " 15.0°C is  59.0F\n",
      " 16.0°C is  60.8F\n",
      " 17.0°C is  62.6F\n",
      " 18.0°C is  64.4F\n",
      " 19.0°C is  66.2F\n",
      " 0.0°C is  32.0F\n",
      " 20.0°C is  68.0F\n"
     ]
    }
   ],
   "execution_count": 62
  },
  {
   "metadata": {
    "ExecuteTime": {
     "end_time": "2025-01-06T17:42:44.866915Z",
     "start_time": "2025-01-06T17:42:44.861847Z"
    }
   },
   "cell_type": "code",
   "source": [
    "# Data Types\n",
    "\n",
    "list_names = [\"Philipp\", \"Ronny\", \"Joey\", \"Jack\", \"Japser\"]\n",
    "\n",
    "# Kicks out first list element\n",
    "list_names.remove(list_names[0])\n",
    "\n",
    "# Kicks out last guy\n",
    "list_names.pop()\n",
    "\n",
    "# Insert Biden at 3rd place\n",
    "list_names.insert(2, \"Biden\")\n",
    "\n",
    "#print(list_names)\n",
    "\n",
    "tuple_games = (\"Halo\", \"Skyrim\", \"GTA\", \"WOW\", \"Valorant\", \"CSGO\", \"Valorant\")\n",
    "\n",
    "#print(tuple_games.count(\"Valorant\"))\n",
    "\n",
    "#print(tuple_games.index(\"Halo\"))\n",
    "\n",
    "# Transform tuple into set: This removes all duplicates since it does not allow any.\n",
    "set_games = set(tuple_games)\n",
    "#print(set_games)\n",
    "\n",
    "set_watches1 = {\"Casio\", \"Rolex\", \"AP\", \"Patek\", \"RM\", \"Citizen\"}\n",
    "set_watches2 = {\"Wecker\", \"Patek\", \"SBB Uhr\", \"FPJ\", \"Tudor\"}\n",
    "\n",
    "#print((set_watches1.union(set_watches2)))\n",
    "#print(set_watches1.intersection(set_watches2))\n",
    "\n",
    "#print(set_watches1.difference(set_watches2))\n",
    "\n",
    "dict_car = {\n",
    "    \"brand\" : \"Benz\",\n",
    "    \"color\" : \"Black\",\n",
    "    \"year\" : 2020,\n",
    "    \"horses\" : 450,\n",
    "    \"packages\": {\"Sport\", \"Race\", \"Night\"}\n",
    "}\n",
    "\n",
    "print(dict_car)\n",
    "print(dict_car[\"horses\"])\n",
    "print(dict_car.values())"
   ],
   "id": "ffb7162b587f9fb6",
   "outputs": [
    {
     "name": "stdout",
     "output_type": "stream",
     "text": [
      "{'brand': 'Benz', 'color': 'Black', 'year': 2020, 'horses': 450, 'packages': {'Race', 'Night', 'Sport'}}\n",
      "450\n",
      "dict_values(['Benz', 'Black', 2020, 450, {'Race', 'Night', 'Sport'}])\n"
     ]
    }
   ],
   "execution_count": 101
  },
  {
   "metadata": {},
   "cell_type": "code",
   "outputs": [],
   "execution_count": null,
   "source": "",
   "id": "3ffcba6ec2e1ec02"
  }
 ],
 "metadata": {
  "kernelspec": {
   "display_name": "Python 3",
   "language": "python",
   "name": "python3"
  },
  "language_info": {
   "codemirror_mode": {
    "name": "ipython",
    "version": 2
   },
   "file_extension": ".py",
   "mimetype": "text/x-python",
   "name": "python",
   "nbconvert_exporter": "python",
   "pygments_lexer": "ipython2",
   "version": "2.7.6"
  }
 },
 "nbformat": 4,
 "nbformat_minor": 5
}
